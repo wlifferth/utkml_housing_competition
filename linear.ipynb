{
 "cells": [
  {
   "cell_type": "code",
   "execution_count": 20,
   "metadata": {
    "collapsed": true
   },
   "outputs": [],
   "source": [
    "def root_mean_squared_error(y, yp):\n",
    "    # The squared percentage error is just:\n",
    "    #     the difference between actual and predicted\n",
    "    #     divided by the actual value\n",
    "    #     raised to the power of 2\n",
    "    # Here we do that for every y, yp pair\n",
    "    squared_error = [((yi - ypi) / yi) ** 2 for yi, ypi in zip(y, yp)]\n",
    "    # Next we take the mean of all those errors\n",
    "    mean_squared_error = sum(squared_error)/len(squared_error)\n",
    "    # And take the root of that (to 'undo' the original squaring)\n",
    "    root_mean_squared_error = mean_squared_error ** 0.5\n",
    "    return root_mean_squared_error"
   ]
  },
  {
   "cell_type": "code",
   "execution_count": 25,
   "metadata": {},
   "outputs": [
    {
     "name": "stdout",
     "output_type": "stream",
     "text": [
      "Round 0: 0.3742323545581018\n",
      "Round 1: 0.3618372759114513\n",
      "Round 2: 0.3654510083801555\n",
      "Round 3: 0.3530962146563929\n",
      "Round 4: 0.35659340256377464\n",
      "Round 5: 0.34491837097914446\n",
      "Round 6: 0.3663324964159435\n",
      "Round 7: 0.3416807539540106\n",
      "Round 8: 0.3521028689970093\n",
      "Round 9: 0.35224584142361254\n",
      "Overall: 0.3568490587839596\n"
     ]
    }
   ],
   "source": [
    "import numpy as np\n",
    "import pandas as pd\n",
    "from sklearn.model_selection import train_test_split\n",
    "from sklearn.linear_model import LinearRegression\n",
    "\n",
    "\n",
    "train = pd.read_csv('train.csv')\n",
    "test = pd.read_csv('test.csv')\n",
    "\n",
    "train = train.fillna(0)\n",
    "test = test.fillna(0)\n",
    "\n",
    "X_train = train[train.columns[3:]]\n",
    "y_train = train['price']\n",
    "\n",
    "X_test = test[test.columns[2:]]\n",
    "\n",
    "# Training the Model\n",
    "model = LinearRegression()\n",
    "K = 10 # Number of iterations\n",
    "total_score = 0.\n",
    "\n",
    "# Cross Validation\n",
    "for i in range(K):\n",
    "    X_train_cv, X_test_cv, y_train_cv, y_test_cv = train_test_split(X_train, y_train)\n",
    "    model.fit(X_train_cv, y_train_cv)\n",
    "    prediction = model.predict(X_test_cv)\n",
    "    score = root_mean_squared_error(y_test_cv, prediction)\n",
    "    print(\"Round {}: {}\".format(i, score))\n",
    "    total_score += score\n",
    "print(\"Overall: {}\".format(total_score / K))"
   ]
  },
  {
   "cell_type": "code",
   "execution_count": 26,
   "metadata": {
    "collapsed": true
   },
   "outputs": [],
   "source": [
    "model.fit(X_train, y_train)\n",
    "preds = model.predict(X_test)\n",
    "\n",
    "pred_df = pd.DataFrame({'price':preds, 'id':test['id']}).set_index('id')\n",
    "pred_df.to_csv('linear-model.csv')"
   ]
  },
  {
   "cell_type": "code",
   "execution_count": null,
   "metadata": {
    "collapsed": true
   },
   "outputs": [],
   "source": []
  }
 ],
 "metadata": {
  "kernelspec": {
   "display_name": "Python [conda root]",
   "language": "python",
   "name": "conda-root-py"
  },
  "language_info": {
   "codemirror_mode": {
    "name": "ipython",
    "version": 3
   },
   "file_extension": ".py",
   "mimetype": "text/x-python",
   "name": "python",
   "nbconvert_exporter": "python",
   "pygments_lexer": "ipython3",
   "version": "3.5.2"
  }
 },
 "nbformat": 4,
 "nbformat_minor": 2
}
